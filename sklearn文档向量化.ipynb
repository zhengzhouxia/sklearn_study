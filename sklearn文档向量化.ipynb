{
 "cells": [
  {
   "cell_type": "code",
   "execution_count": 16,
   "id": "f3d22a5d",
   "metadata": {},
   "outputs": [
    {
     "name": "stdout",
     "output_type": "stream",
     "text": [
      "['an', 'bird', 'cat', 'dog', 'fish', 'the', 'zhengzx']\n",
      "{'dog': 3, 'cat': 2, 'fish': 4, 'bird': 1, 'the': 5, 'zhengzx': 6, 'an': 0}\n",
      "  (0, 3)\t1\n",
      "  (0, 2)\t1\n",
      "  (0, 4)\t1\n",
      "  (1, 3)\t1\n",
      "  (1, 2)\t2\n",
      "  (2, 4)\t1\n",
      "  (2, 1)\t1\n",
      "  (3, 1)\t1\n",
      "  (3, 5)\t1\n",
      "  (3, 6)\t1\n",
      "  (3, 0)\t1\n",
      "[[0 0 1 1 1 0 0]\n",
      " [0 0 2 1 0 0 0]\n",
      " [0 1 0 0 1 0 0]\n",
      " [1 1 0 0 0 1 1]]\n",
      "[1 2 3 2 2 1 1]\n"
     ]
    }
   ],
   "source": [
    "from sklearn.feature_extraction.text import CountVectorizer\n",
    "\n",
    "texts=[\"dog cat fish\",\"dog cat cat\",\"fish bird\", 'bird the zhengzx an'] # “dog cat fish” 为输入列表元素,即代表一个文章的字符串\n",
    "cv = CountVectorizer()#创建词袋数据结构\n",
    "cv_fit=cv.fit_transform(texts)\n",
    "#上述代码等价于下面两行\n",
    "#cv.fit(texts)\n",
    "#cv_fit=cv.transform(texts)\n",
    "\n",
    "print(cv.get_feature_names())    #['bird', 'cat', 'dog', 'fish'] 列表形式呈现文章生成的词典\n",
    "\n",
    "print(cv.vocabulary_)              # {‘dog’:2,'cat':1,'fish':3,'bird':0} 字典形式呈现，key：词，value:词频\n",
    "\n",
    "print(cv_fit)\n",
    "# （0,3） 1   第0个列表元素，**词典中索引为3的元素**， 词频\n",
    "#（0,1）1\n",
    "#（0,2）1\n",
    "#（1,1）2\n",
    "#（1,2）1\n",
    "#（2,0）1\n",
    "#（2,3）1\n",
    "#（3,0）1\n",
    "\n",
    "print(cv_fit.toarray()) #.toarray() 是将结果转化为稀疏矩阵矩阵的表示方式；\n",
    "#[[0 1 1 1]\n",
    "# [0 2 1 0]\n",
    "# [1 0 0 1]\n",
    "# [1 0 0 0]]\n",
    "\n",
    "print(cv_fit.toarray().sum(axis=0))  #每个词在所有文档中的词频\n",
    "#[2 3 2 2]\n",
    "\n"
   ]
  }
 ],
 "metadata": {
  "kernelspec": {
   "display_name": "Python 3",
   "language": "python",
   "name": "python3"
  },
  "language_info": {
   "codemirror_mode": {
    "name": "ipython",
    "version": 3
   },
   "file_extension": ".py",
   "mimetype": "text/x-python",
   "name": "python",
   "nbconvert_exporter": "python",
   "pygments_lexer": "ipython3",
   "version": "3.6.15"
  }
 },
 "nbformat": 4,
 "nbformat_minor": 5
}
